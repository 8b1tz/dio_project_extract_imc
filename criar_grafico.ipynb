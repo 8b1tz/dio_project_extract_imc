{
 "cells": [
  {
   "cell_type": "code",
   "execution_count": null,
   "metadata": {},
   "outputs": [],
   "source": [
    "df = pd.read_csv('planilha_imc.csv')\n",
    "\n",
    "def create_imc(row):\n",
    "  return round((row['Peso']/ (row['Altura'] * 0.01)**2), 1)\n",
    "\n",
    "def name_column(row):\n",
    "  imc = row[\"Imc\"]\n",
    "  dict_valor = {\n",
    "      \"Adulto\": {\"Abaixo do Peso\": (0, 18.4),\n",
    "                 \"Normoponderal\": (18.5, 24.9),\n",
    "                 \"Pré-Obesidade\": (25, 29.9),\n",
    "                 \"Obesidade grau I\": (30, 34.9),\n",
    "                 \"Obesidade grau II\": (35, 39.9),\n",
    "                 \"Obesidade Mórbida\": (40, 100)\n",
    "                },\n",
    "      \"Jovem\": {\"Baixo Peso\": (0, 18.4),\n",
    "                \"Normoponderal\": (18.5, 24.9),\n",
    "                \"Excesso Peso\": (25, 29.9),\n",
    "                \"Obesidade\": (30, 100)}\n",
    "  }\n",
    "  dict_result = dict_valor[row['Faixa']]\n",
    "  for i, v in dict_result.items():\n",
    "    min, max = v\n",
    "    if min < imc < max:\n",
    "      return i\n",
    "\n",
    "df['Imc'] = df.apply(create_imc, axis=1)\n",
    "df['Faixa'] = np.where(df['Idade'] > 20, 'Adulto', 'Jovem')\n",
    "df['Resultado'] = df.apply(name_column, axis=1)\n",
    "\n",
    "count_result = df['Resultado'].value_counts()\n",
    "\n",
    "plt.figure(figsize=(8, 8))\n",
    "plt.pie(count_result, labels=count_result.index, autopct='%1.1f%%', startangle=140, colors=['skyblue', 'lightcoral', 'lightgreen', 'orange', 'lightblue', 'lightpink'])\n",
    "plt.title('Distribuição de Pessoas por Faixa de Peso', fontsize=14)\n",
    "\n",
    "plt.axis('equal') \n",
    "plt.show()\n"
   ]
  }
 ],
 "metadata": {
  "language_info": {
   "name": "python"
  },
  "orig_nbformat": 4
 },
 "nbformat": 4,
 "nbformat_minor": 2
}
